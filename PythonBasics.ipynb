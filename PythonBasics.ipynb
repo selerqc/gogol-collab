{
  "nbformat": 4,
  "nbformat_minor": 0,
  "metadata": {
    "colab": {
      "provenance": [],
      "authorship_tag": "ABX9TyO28tbFDnWkwGeOgx3ZyIUY",
      "include_colab_link": true
    },
    "kernelspec": {
      "name": "python3",
      "display_name": "Python 3"
    },
    "language_info": {
      "name": "python"
    }
  },
  "cells": [
    {
      "cell_type": "markdown",
      "metadata": {
        "id": "view-in-github",
        "colab_type": "text"
      },
      "source": [
        "<a href=\"https://colab.research.google.com/github/selerqc/gogol-collab/blob/main/PythonBasics.ipynb\" target=\"_parent\"><img src=\"https://colab.research.google.com/assets/colab-badge.svg\" alt=\"Open In Colab\"/></a>"
      ]
    },
    {
      "cell_type": "code",
      "execution_count": null,
      "metadata": {
        "collapsed": true,
        "id": "F0PvyGAkcILT"
      },
      "outputs": [],
      "source": [
        "##1.Student Grade Calculator\n",
        "def calculate_grade(average):\n",
        "  if average >= 90:\n",
        "    return 'A'\n",
        "  elif average >= 80:\n",
        "    return 'B'\n",
        "  elif average >= 70:\n",
        "    return 'C'\n",
        "  elif average >= 60:\n",
        "    return 'D'\n",
        "  else:\n",
        "    return 'F'\n",
        "\n",
        "scores = list(map(int, input(\"Enter marks (separated by spaces): \").split()))\n",
        "\n",
        "if len(scores) != 5:\n",
        "  print(\"Please enter exactly 5 scores.\")\n",
        "else:\n",
        "  average_score = sum(scores) / len(scores)\n",
        "\n",
        "  grade = calculate_grade(average_score)\n",
        "\n",
        "  print(f\"Average = {average_score}\")\n",
        "  print(f\"Grade = {grade}\")"
      ]
    },
    {
      "cell_type": "code",
      "source": [
        "##2 ATM Withdrawal Simulation\n",
        "def atm_withdrawal(balance, amount):\n",
        "  if amount > balance:\n",
        "    return \"Insufficient funds\"\n",
        "  else:\n",
        "    balance -= amount\n",
        "    return f\"Withdrawal successful. Remaining balance: {balance}\"\n",
        "\n",
        "balance = 5000\n",
        "\n",
        "withdrawal = int(input(\"Enter withdrawal amount: \"))\n",
        "\n",
        "result = atm_withdrawal(balance, withdrawal)\n",
        "print(result)"
      ],
      "metadata": {
        "colab": {
          "base_uri": "https://localhost:8080/"
        },
        "id": "9WN2hJiLc5lD",
        "outputId": "38e0a37c-f330-4c0f-8aa1-235d9a412a0c"
      },
      "execution_count": 3,
      "outputs": [
        {
          "output_type": "stream",
          "name": "stdout",
          "text": [
            "Enter withdrawal amount: 1200\n",
            "Withdrawal successful. Remaining balance: 3800\n"
          ]
        }
      ]
    },
    {
      "cell_type": "code",
      "source": [
        "##3. Electricity Bill Calculator\n",
        "def calculate_electricity_bill(units):\n",
        "  bill = 0\n",
        "  if units <= 100:\n",
        "    bill = units * 5\n",
        "  elif units <= 200:\n",
        "    bill = (100 * 5) + ((units - 100) * 7)\n",
        "  else:\n",
        "    bill = (100 * 5) + (100 * 7) + ((units - 200) * 10)\n",
        "  return bill\n",
        "\n",
        "units_consumed = int(input(\"Enter units: \"))\n",
        "\n",
        "total_bill = calculate_electricity_bill(units_consumed)\n",
        "\n",
        "print(f\"Bill Amount: ₱{total_bill}\")\n"
      ],
      "metadata": {
        "id": "ncrt2CB5d49W"
      },
      "execution_count": null,
      "outputs": []
    },
    {
      "cell_type": "code",
      "source": [
        "##4. Library Fine System\n",
        "def calculate_library_fine(days_late):\n",
        "  fine = 0\n",
        "  if days_late >= 1 and days_late <= 5:\n",
        "    fine = days_late * 5\n",
        "  elif days_late >= 6 and days_late <= 10:\n",
        "    fine = (5 * 5) + ((days_late - 5) * 10)\n",
        "  elif days_late > 10:\n",
        "    fine = (5 * 5) + (5 * 10) + ((days_late - 10) * 20)\n",
        "  return fine\n",
        "\n",
        "days_late = int(input(\"Days late: \"))\n",
        "\n",
        "total_fine = calculate_library_fine(days_late)\n",
        "\n",
        "print(f\"Fine: ₱{total_fine}\")"
      ],
      "metadata": {
        "id": "lsasuuyIeh8q"
      },
      "execution_count": null,
      "outputs": []
    },
    {
      "cell_type": "code",
      "metadata": {
        "id": "bcf48ccd"
      },
      "source": [
        "##5. Employee Salary Slip Generator\n",
        "def calculate_salary(basic_salary):\n",
        "  hra = 0.20 * basic_salary\n",
        "  da = 0.15 * basic_salary\n",
        "\n",
        "  gross_salary = basic_salary + hra + da\n",
        "\n",
        "  tax = 0.10 * gross_salary\n",
        "\n",
        "  net_salary = gross_salary - tax\n",
        "\n",
        "  return gross_salary, net_salary\n",
        "\n",
        "basic_salary = float(input(\"Enter basic salary: \"))\n",
        "\n",
        "gross_salary, net_salary = calculate_salary(basic_salary)\n",
        "\n",
        "print(f\"Gross Salary: {gross_salary}\")\n",
        "print(f\"Net Salary: {net_salary}\")"
      ],
      "execution_count": null,
      "outputs": []
    },
    {
      "cell_type": "code",
      "metadata": {
        "id": "fbe54faf"
      },
      "source": [
        "##6. Cinema Ticket Booking System\n",
        "def calculate_ticket_price(age):\n",
        "  if age < 12:\n",
        "    return 100\n",
        "  elif 12 <= age <= 59:\n",
        "    return 200\n",
        "  else:\n",
        "    return 150\n",
        "\n",
        "num_people = int(input(\"Number of people: \"))\n",
        "\n",
        "ages = list(map(int, input(\"Enter ages (separated by spaces): \").split()))\n",
        "\n",
        "if len(ages) != num_people:\n",
        "  print(\"Please enter the correct number of ages.\")\n",
        "else:\n",
        "  ticket_prices = []\n",
        "  total_bill = 0\n",
        "\n",
        "  for age in ages:\n",
        "    price = calculate_ticket_price(age)\n",
        "    ticket_prices.append(price)\n",
        "    total_bill += price\n",
        "\n",
        "  print(f\"Ticket Prices: {' '.join(map(str, ticket_prices))}\")\n",
        "  print(f\"Total Bill = ₱{total_bill}\")"
      ],
      "execution_count": null,
      "outputs": []
    },
    {
      "cell_type": "code",
      "metadata": {
        "id": "a50d87a4"
      },
      "source": [
        "##7. Bus Fare Calculator\n",
        "def calculate_bus_fare(distance):\n",
        "  fare = 0\n",
        "  if distance < 5:\n",
        "    fare = 10\n",
        "  elif 5 <= distance <= 15:\n",
        "    fare = 20\n",
        "  elif 16 <= distance <= 25:\n",
        "    fare = 30\n",
        "  else:\n",
        "    fare = 50\n",
        "  return fare\n",
        "\n",
        "distance = float(input(\"Enter distance: \"))\n",
        "\n",
        "total_fare = calculate_bus_fare(distance)\n",
        "\n",
        "print(f\"Fare: ₱{total_fare}\")"
      ],
      "execution_count": null,
      "outputs": []
    },
    {
      "cell_type": "code",
      "metadata": {
        "id": "e8ff8fdb"
      },
      "source": [
        "##8. Restaurant Billing System\n",
        "def calculate_restaurant_bill(order):\n",
        "  menu = {\n",
        "      \"Pizza\": 200,\n",
        "      \"Burger\": 150,\n",
        "      \"Pasta\": 120,\n",
        "      \"Salad\": 80,\n",
        "      \"Drink\": 50\n",
        "  }\n",
        "\n",
        "  total_bill = 0\n",
        "  for item, quantity in order.items():\n",
        "    if item in menu:\n",
        "      total_bill += menu[item] * quantity\n",
        "    else:\n",
        "      print(f\"Item '{item}' not found on the menu.\")\n",
        "\n",
        "  service_charge = total_bill * 0.05\n",
        "  final_bill = total_bill + service_charge\n",
        "\n",
        "  return total_bill, service_charge, final_bill\n",
        "\n",
        "print(\"Enter your order (item - quantity per line, type 'done' when finished):\")\n",
        "order = {}\n",
        "while True:\n",
        "  line = input()\n",
        "  if line.lower() == 'done':\n",
        "    break\n",
        "  try:\n",
        "    item, quantity_str = line.split(\" - \")\n",
        "    quantity = int(quantity_str)\n",
        "    order[item.strip()] = quantity\n",
        "  except ValueError:\n",
        "    print(\"Invalid input format. Please use 'Item - Quantity'.\")\n",
        "\n",
        "if order:\n",
        "  total, service, final = calculate_restaurant_bill(order)\n",
        "  print(f\"Total = ₱{total}\")\n",
        "  print(f\"Service charge = ₱{service}\")\n",
        "  print(f\"Final Bill = ₱{final}\")\n",
        "else:\n",
        "  print(\"No items ordered.\")"
      ],
      "execution_count": null,
      "outputs": []
    },
    {
      "cell_type": "code",
      "metadata": {
        "id": "5a326704"
      },
      "source": [
        "##9. Loan Eligibility Checker\n",
        "def check_loan_eligibility(salary, existing_loan):\n",
        "  if salary >= 25000 and existing_loan.lower() == 'no':\n",
        "    return \"Loan Approved!\"\n",
        "  else:\n",
        "    return \"Loan Rejected.\"\n",
        "\n",
        "salary = float(input(\"Salary: \"))\n",
        "existing_loan = input(\"Existing loan (Yes/No): \")\n",
        "\n",
        "result = check_loan_eligibility(salary, existing_loan)\n",
        "print(result)"
      ],
      "execution_count": null,
      "outputs": []
    },
    {
      "cell_type": "code",
      "metadata": {
        "id": "a181fd76"
      },
      "source": [
        "##10. Voting System Simulation\n",
        "from collections import Counter\n",
        "\n",
        "def count_votes(votes):\n",
        "  vote_counts = Counter(votes)\n",
        "  return vote_counts\n",
        "\n",
        "def declare_winner(vote_counts):\n",
        "  if not vote_counts:\n",
        "    return \"No votes cast.\"\n",
        "  max_votes = max(vote_counts.values())\n",
        "  winners = [candidate for candidate, count in vote_counts.items() if count == max_votes]\n",
        "\n",
        "  if len(winners) > 1:\n",
        "    return f\"It's a tie between: {', '.join(winners)}\"\n",
        "  else:\n",
        "    return f\"Winner: {winners[0]}\"\n",
        "\n",
        "votes_input = input(\"Enter votes (separated by spaces): \").split()\n",
        "\n",
        "vote_counts = count_votes(votes_input)\n",
        "\n",
        "print(\"Results:\")\n",
        "for candidate, count in vote_counts.items():\n",
        "  print(f\"{candidate} = {count}\")\n",
        "\n",
        "winner = declare_winner(vote_counts)\n",
        "print(winner)"
      ],
      "execution_count": null,
      "outputs": []
    }
  ]
}