{
  "nbformat": 4,
  "nbformat_minor": 0,
  "metadata": {
    "colab": {
      "provenance": [],
      "authorship_tag": "ABX9TyOJc9b8yUWfpbbnyRLLdodx",
      "include_colab_link": true
    },
    "kernelspec": {
      "name": "python3",
      "display_name": "Python 3"
    },
    "language_info": {
      "name": "python"
    }
  },
  "cells": [
    {
      "cell_type": "markdown",
      "metadata": {
        "id": "view-in-github",
        "colab_type": "text"
      },
      "source": [
        "<a href=\"https://colab.research.google.com/github/selerqc/gogol-collab/blob/main/ist%2C_Tuple_and_Dictionary_Lab_Activities.ipynb\" target=\"_parent\"><img src=\"https://colab.research.google.com/assets/colab-badge.svg\" alt=\"Open In Colab\"/></a>"
      ]
    },
    {
      "cell_type": "code",
      "execution_count": null,
      "metadata": {
        "id": "QKgFSrM0f6gF"
      },
      "outputs": [],
      "source": []
    },
    {
      "cell_type": "markdown",
      "metadata": {
        "id": "437ae8be"
      },
      "source": [
        "Here's the code for the list activities:"
      ]
    },
    {
      "cell_type": "code",
      "metadata": {
        "id": "8eb417f5"
      },
      "source": [
        "# 6. Merge Two Lists\n",
        "list1 = [1, 2, 3]\n",
        "list2 = [4, 5, 6]\n",
        "merged_list = list1 + list2\n",
        "print(f\"Merged list: {merged_list}\")"
      ],
      "execution_count": null,
      "outputs": []
    },
    {
      "cell_type": "code",
      "metadata": {
        "id": "4b534c79"
      },
      "source": [
        "# 7. Find Common Elements in Two Lists\n",
        "list1 = [1, 2, 3, 4]\n",
        "list2 = [3, 4, 5, 6]\n",
        "common_elements = list(set(list1) & set(list2))\n",
        "print(f\"Common elements: {common_elements}\")"
      ],
      "execution_count": null,
      "outputs": []
    },
    {
      "cell_type": "code",
      "metadata": {
        "id": "3d4a47a1"
      },
      "source": [
        "# 8. Sort List Without Using sort()\n",
        "list_to_sort = [4, 2, 9, 1]\n",
        "n = len(list_to_sort)\n",
        "for i in range(n):\n",
        "    for j in range(0, n-i-1):\n",
        "        if list_to_sort[j] > list_to_sort[j+1]:\n",
        "            list_to_sort[j], list_to_sort[j+1] = list_to_sort[j+1], list_to_to_sort[j]\n",
        "print(f\"Sorted list: {list_to_sort}\")"
      ],
      "execution_count": null,
      "outputs": []
    },
    {
      "cell_type": "code",
      "metadata": {
        "id": "07255a6b"
      },
      "source": [
        "# 9. Find Second Largest Number\n",
        "numbers = [10, 20, 4, 45, 99]\n",
        "unique_numbers = sorted(list(set(numbers)))\n",
        "second_largest = unique_numbers[-2] if len(unique_numbers) >= 2 else \"List does not have a second largest number\"\n",
        "print(f\"Second largest number: {second_largest}\")"
      ],
      "execution_count": null,
      "outputs": []
    },
    {
      "cell_type": "code",
      "metadata": {
        "id": "9f7c8452"
      },
      "source": [
        "# 10. Replace an Element at a Specific Index\n",
        "my_list = [1, 2, 3, 4, 5]\n",
        "index_to_replace = 2\n",
        "new_value = 99\n",
        "if 0 <= index_to_replace < len(my_list):\n",
        "    my_list[index_to_replace] = new_value\n",
        "    print(f\"List after replacement: {my_list}\")\n",
        "else:\n",
        "    print(f\"Invalid index: {index_to_replace}\")"
      ],
      "execution_count": null,
      "outputs": []
    },
    {
      "cell_type": "markdown",
      "metadata": {
        "id": "e632d103"
      },
      "source": [
        "Here's the code for the tuple activities:"
      ]
    },
    {
      "cell_type": "code",
      "metadata": {
        "id": "8dbe8200"
      },
      "source": [
        "# 11. Convert List to Tuple\n",
        "my_list = [1, 2, 3]\n",
        "my_tuple = tuple(my_list)\n",
        "print(f\"Converted list to tuple: {my_tuple}\")"
      ],
      "execution_count": null,
      "outputs": []
    },
    {
      "cell_type": "code",
      "metadata": {
        "id": "85d184b2"
      },
      "source": [
        "# 12. Concatenate Two Tuples\n",
        "tuple1 = (1, 2)\n",
        "tuple2 = (3, 4)\n",
        "concatenated_tuple = tuple1 + tuple2\n",
        "print(f\"Concatenated tuples: {concatenated_tuple}\")"
      ],
      "execution_count": null,
      "outputs": []
    },
    {
      "cell_type": "code",
      "metadata": {
        "id": "cb4c9de4"
      },
      "source": [
        "# 13. Find Index of an Element\n",
        "my_tuple = (10, 20, 30, 40)\n",
        "element_to_find = 30\n",
        "try:\n",
        "    index = my_tuple.index(element_to_find)\n",
        "    print(f\"ndex of {element_to_find}: {index}\")\n",
        "except ValueError:\n",
        "    print(f\"Element {element_to_find} not found in the tuple.\")"
      ],
      "execution_count": null,
      "outputs": []
    },
    {
      "cell_type": "code",
      "metadata": {
        "id": "2f3d60ea"
      },
      "source": [
        "# 14. Count Occurrences in a Tuple\n",
        "my_tuple = (1, 2, 3, 2, 2, 4)\n",
        "element_to_count = 2\n",
        "count = my_tuple.count(element_to_count)\n",
        "print(f\"Occurrences of {element_to_count}: {count}\")"
      ],
      "execution_count": null,
      "outputs": []
    },
    {
      "cell_type": "code",
      "metadata": {
        "id": "e96a7808"
      },
      "source": [
        "# 15. Convert Tuple to String\n",
        "char_tuple = ('P', 'y', 't', 'h', 'o', 'n')\n",
        "my_string = \"\".join(char_tuple)\n",
        "print(f\"Converted tuple to string: {my_string}\")"
      ],
      "execution_count": null,
      "outputs": []
    },
    {
      "cell_type": "code",
      "metadata": {
        "id": "14a913da"
      },
      "source": [
        "# 16. Create a Dictionary from Two Lists\n",
        "keys = ['a', 'b', 'c']\n",
        "values = [1, 2, 3]\n",
        "my_dict = dict(zip(keys, values))\n",
        "print(f\"Created dictionary: {my_dict}\")"
      ],
      "execution_count": null,
      "outputs": []
    },
    {
      "cell_type": "code",
      "metadata": {
        "id": "1d071ecd"
      },
      "source": [
        "# 17. Count Frequency of Words\n",
        "sentence = \"apple banana apple grape banana apple\"\n",
        "words = sentence.split()\n",
        "word_frequency = {}\n",
        "for word in words:\n",
        "    word_frequency[word] = word_frequency.get(word, 0) + 1\n",
        "print(f\"Word frequency: {word_frequency}\")"
      ],
      "execution_count": null,
      "outputs": []
    },
    {
      "cell_type": "code",
      "metadata": {
        "id": "284f50ac"
      },
      "source": [
        "# 18. Merge Two Dictionaries\n",
        "dict1 = {'a': 1, 'b': 2}\n",
        "dict2 = {'c': 3, 'd': 4}\n",
        "merged_dict = {**dict1, **dict2}\n",
        "print(f\"Merged dictionaries: {merged_dict}\")\n"
      ],
      "execution_count": null,
      "outputs": []
    }
  ]
}