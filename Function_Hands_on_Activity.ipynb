{
  "nbformat": 4,
  "nbformat_minor": 0,
  "metadata": {
    "colab": {
      "provenance": [],
      "authorship_tag": "ABX9TyPm1tpi44aX47NqvH/sE9Tm",
      "include_colab_link": true
    },
    "kernelspec": {
      "name": "python3",
      "display_name": "Python 3"
    },
    "language_info": {
      "name": "python"
    }
  },
  "cells": [
    {
      "cell_type": "markdown",
      "metadata": {
        "id": "view-in-github",
        "colab_type": "text"
      },
      "source": [
        "<a href=\"https://colab.research.google.com/github/selerqc/gogol-collab/blob/main/Function_Hands_on_Activity.ipynb\" target=\"_parent\"><img src=\"https://colab.research.google.com/assets/colab-badge.svg\" alt=\"Open In Colab\"/></a>"
      ]
    },
    {
      "cell_type": "code",
      "execution_count": 43,
      "metadata": {
        "colab": {
          "base_uri": "https://localhost:8080/"
        },
        "collapsed": true,
        "id": "2UyNi172Z5u_",
        "outputId": "307e052d-f469-476e-e8ba-e6032aab814b"
      },
      "outputs": [
        {
          "output_type": "stream",
          "name": "stdout",
          "text": [
            "Enter your choice (1-6): 1\n",
            "Enter size: 1\n",
            "* \n",
            "I used google, for reference\n",
            "Do you want to try again? (y/n): n\n",
            "Program Terminated\n"
          ]
        }
      ],
      "source": [
        "def pattern1(n):\n",
        " for i in range(n):\n",
        "    print('* ' * n)\n",
        "\n",
        "def pattern2(n):\n",
        "  for i in range(1, n + 1):\n",
        "    for j in range(i):\n",
        "        print(\"*\", end=\" \")\n",
        "    print()\n",
        "\n",
        "def pattern3(n):\n",
        "  for i in range(n,0,-1):\n",
        "    for j in range(i):\n",
        "        print(\"*\", end=\" \")\n",
        "    print()\n",
        "\n",
        "def pattern4(n):\n",
        " for i in range(n):\n",
        "    print(' '*(n-i-1) + '* '*(i+1) )\n",
        " for i in range(n):\n",
        "    print(' '*(i+1) + '* '*(n-i-1))\n",
        "\n",
        "def pattern5(n):\n",
        "  for i in range(n):\n",
        "    for j in range(n):\n",
        "        if i == 0 or i == n - 1 or j == 0 or j == n - 1:\n",
        "            print(\"*\", end=\" \")\n",
        "        else:\n",
        "            print(\" \", end=\" \")\n",
        "    print()\n",
        "\n",
        "def pattern6(n):\n",
        "  for i in range(1, n + 1):\n",
        "    for j in range(i):\n",
        "        print(\"*\", end=\" \")\n",
        "    for k in range(2 * (n - i)):\n",
        "        print(\" \", end=\" \")\n",
        "    for j in range(i):\n",
        "        print(\"*\", end=\" \")\n",
        "    print()\n",
        "\n",
        "  for i in range(n - 1, 0, -1):\n",
        "    for j in range(i):\n",
        "        print(\"*\", end=\" \")\n",
        "    for k in range(2 * (n - i)):\n",
        "        print(\" \", end=\" \")\n",
        "    for j in range(i):\n",
        "        print(\"*\", end=\" \")\n",
        "    print()\n",
        "\n",
        "while True:\n",
        "\n",
        "  choice = input(\"Enter your choice (1-6): \")\n",
        "  match choice:\n",
        "    case '1':\n",
        "      n = (int(input(\"Enter size: \")))\n",
        "      pattern1(n)\n",
        "\n",
        "    case '2':\n",
        "      n = (int(input(\"Enter size: \")))\n",
        "      pattern2(n)\n",
        "\n",
        "    case '3':\n",
        "      n = (int(input(\"Enter size: \")))\n",
        "      pattern3(n)\n",
        "\n",
        "    case '4':\n",
        "      n = (int(input(\"Enter size: \")))\n",
        "      pattern4(n)\n",
        "\n",
        "    case '5':\n",
        "      n = (int(input(\"Enter size: \")))\n",
        "      pattern5(n)\n",
        "\n",
        "    case '6':\n",
        "      n = (int(input(\"Enter size: \")))\n",
        "      pattern6(n)\n",
        "\n",
        "    case _:\n",
        "      print(\"Invalid choice. Please try again.\")\n",
        "      continue\n",
        "  print(\"I used google for reference\")\n",
        "  try_again = input(\"Do you want to try again? (y/n): \")\n",
        "\n",
        "  if try_again.lower() == 'y':\n",
        "    continue\n",
        "  else:\n",
        "    print(\"Program Terminated\")\n",
        "    break\n",
        "\n",
        "\n",
        "\n",
        "\n"
      ]
    }
  ]
}